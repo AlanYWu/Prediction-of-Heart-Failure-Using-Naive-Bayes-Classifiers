{
 "cells": [
  {
   "cell_type": "code",
   "execution_count": 1,
   "metadata": {},
   "outputs": [],
   "source": [
    "import pandas as pd\n",
    "import numpy as np\n"
   ]
  },
  {
   "cell_type": "code",
   "execution_count": 2,
   "metadata": {},
   "outputs": [
    {
     "name": "stderr",
     "output_type": "stream",
     "text": [
      "d:\\Anaconda3\\lib\\site-packages\\scipy\\__init__.py:155: UserWarning: A NumPy version >=1.18.5 and <1.25.0 is required for this version of SciPy (detected version 1.25.1\n",
      "  warnings.warn(f\"A NumPy version >={np_minversion} and <{np_maxversion}\"\n"
     ]
    }
   ],
   "source": [
    "# Data Processing and loading\n",
    "data_ca = pd.read_csv(\"./Data/data_change_heart_disease_categorical.csv\")\n",
    "data_nu = pd.read_csv(\"./Data/data_change_heart_disease_numerical.csv\")\n",
    "\n",
    "# Test train split and store into dictionaries\n",
    "from sklearn.model_selection import train_test_split\n",
    "def split(df,test_size=0.2):\n",
    "    X = df.iloc[:,0:-1]\n",
    "    y = df.iloc[:,-1]\n",
    "    X_train, X_test, y_train, y_test = train_test_split(X,y,test_size=test_size,random_state=43)\n",
    "    data_dic = {}\n",
    "    data_dic[\"X_train\"]=X_train\n",
    "    data_dic[\"X_test\"]=X_test\n",
    "    data_dic[\"y_train\"]=y_train\n",
    "    data_dic[\"y_test\"]=y_test\n",
    "    return data_dic\n",
    "data_ca = split(data_ca)\n",
    "data_nu = split(data_nu)"
   ]
  },
  {
   "cell_type": "code",
   "execution_count": 3,
   "metadata": {},
   "outputs": [],
   "source": [
    "df = data_ca[\"X_train\"]"
   ]
  },
  {
   "cell_type": "code",
   "execution_count": 38,
   "metadata": {},
   "outputs": [],
   "source": [
    "prediction_nu = {}\n",
    "def feature_extract_nu(X_train,y_train):\n",
    "    features = X_train.columns\n",
    "    HD_idx = y_train==\"Heart disease\"\n",
    "    Normal_idx = y_train==\"Normal\"\n",
    "    for i in features:\n",
    "        feature_HD = X_train.loc[HD_idx,i]\n",
    "        feature_Normal = X_train.loc[Normal_idx,i]\n",
    "        \n",
    "        prediction={}\n",
    "        prediction[i]=pd.DataFrame()\n",
    "        prediction[i][\"Heart disease\"]=[feature_HD.mean(),feature_HD.std()]\n",
    "        prediction[i][\"Normal\"]=[feature_Normal.mean(),feature_Normal.std()]\n",
    "        prediction[i].index=[\"mean\",\"sd\"]\n",
    "    return prediction\n",
    "prediction_nu = feature_extract_nu(data_nu[\"X_train\"],data_nu[\"y_train\"])"
   ]
  },
  {
   "cell_type": "code",
   "execution_count": 61,
   "metadata": {},
   "outputs": [],
   "source": [
    "prediction_ca = {}\n",
    "def feature_extract_ca(X_train,y_train):\n",
    "    prediction={}\n",
    "    features = X_train.columns\n",
    "    HD_idx = y_train==\"Heart disease\"\n",
    "    Normal_idx = y_train==\"Normal\"\n",
    "    for i in features:\n",
    "        feature_list = X_train[i].unique()\n",
    "\n",
    "        # Heart disease\n",
    "        data=X_train.loc[HD_idx,i]\n",
    "        total_count = data.count()\n",
    "        category_prob = []\n",
    "        for k in feature_list:\n",
    "            a = data==k\n",
    "            category_count = a.sum()\n",
    "            category_prob.append(category_count/total_count)\n",
    "        prediction[i]=pd.DataFrame()\n",
    "        prediction[i][\"Heart disease\"]=category_prob\n",
    "        prediction[i].index = feature_list\n",
    "\n",
    "        # Normal\n",
    "        data=X_train.loc[Normal_idx,i]\n",
    "        total_count = data.count()\n",
    "        category_prob = []\n",
    "        for k in feature_list:\n",
    "            a = data==k\n",
    "            category_count = a.sum()\n",
    "            category_prob.append(category_count/total_count)\n",
    "        prediction[i][\"Normal\"]=category_prob\n",
    "        prediction[i].index = feature_list\n",
    "\n",
    "    return prediction\n",
    "prediction_ca = feature_extract_ca(data_ca[\"X_train\"],data_ca[\"y_train\"])           "
   ]
  }
 ],
 "metadata": {
  "kernelspec": {
   "display_name": "base",
   "language": "python",
   "name": "python3"
  },
  "language_info": {
   "codemirror_mode": {
    "name": "ipython",
    "version": 3
   },
   "file_extension": ".py",
   "mimetype": "text/x-python",
   "name": "python",
   "nbconvert_exporter": "python",
   "pygments_lexer": "ipython3",
   "version": "3.9.13"
  },
  "orig_nbformat": 4
 },
 "nbformat": 4,
 "nbformat_minor": 2
}
